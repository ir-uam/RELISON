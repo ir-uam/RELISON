{
 "cells": [
  {
   "cell_type": "markdown",
   "id": "03cfab3b",
   "metadata": {},
   "source": [
    "# RELISON: A framework for REcommending LInks in SOcial Networks\n",
    "\n",
    "RELISON is a framework for experimentation on the link recommendation task in social networks, which aims to identify those people in the network with whom a user might be interested to connect, interact or befriend. RELISON provides tools for executing and evaluating contact recommendation approaches, considering not only their accuracy, but also aspects like their novelty, diversity and the effects that such recommendations have on global properties of the networks (as changes in the structural properties or in the characteristics of the information arriving to the users). In order to measure these effects, RELISON also provides functionality for a) analyzing the structural properties of social networks, b) detecting clusters of users (communities) and c) simulating the diffusion of information in a social network. These functionalities can be used regardless of whether recommendations have been provided to the users.\n",
    "\n",
    "This notebook provides a simple tutorial on how to use the standard functionalities and command line programs of the RELISON framework. After the tutorial is finished, you shall learn how to:\n",
    "\n",
    "1. Generate random networks with different properties.\n",
    "2. Analyze the properties of a network or graph.\n",
    "3. Execute link recommendations over that network.\n",
    "4. Find communities of tightly connected users.\n",
    "5. Simulate information diffusion over the networks."
   ]
  },
  {
   "cell_type": "markdown",
   "id": "c86421d6",
   "metadata": {},
   "source": [
    "## Installation\n",
    "\n",
    "As a first step, we need to install and configure the RELISON framework so we can work with it. In this case, we download it from the Git repository, we install the different Maven packages, and we build the definitive executable JAR, so we can execute the different command line programs provided by the framework.\n",
    "\n",
    "\n",
    "**Note:** If you have reached here from the provided Docker container in the repository, this step is unnecessary."
   ]
  },
  {
   "cell_type": "code",
   "execution_count": null,
   "id": "0744b48c",
   "metadata": {},
   "outputs": [],
   "source": [
    "!mkdir RELISON\n",
    "!git clone https://github.com/ir-uam/RELISON.git RELISON/\n",
    "%cd RELISON\n",
    "!mvn install\n",
    "%cd RELISON-examples\n",
    "!mvn clean compile assembly:single\n",
    "!mv ./target/RELISON-examples-1.0.0-jar-with-dependencies.jar ../RELISON.jar\n",
    "%cd ..\n",
    "%cd .."
   ]
  },
  {
   "cell_type": "markdown",
   "id": "25c6f352",
   "metadata": {},
   "source": [
    "Once we have installed our repository, we can configure the variables we are going to need to execute the tutorial. need to define the following variables:\n",
    "- **JAR file:** The actual location of the JAR file. If it has been downloaded through the previous commands, it should be on `./RELISON/RELISON.jar`. If you are using the Docker image, it is on `/tmp/RELISON/RELISON.jar`.\n",
    "- **Training graph:** The example training graph\n",
    "- **Test graph:** The example test graph."
   ]
  },
  {
   "cell_type": "code",
   "execution_count": 1,
   "id": "9f6ce9c1",
   "metadata": {},
   "outputs": [],
   "source": [
    "jar_file = './RELISON/RELISON.jar'\n",
    "train_graph = './RELISON/data/train.txt'\n",
    "test_graph = './RELISON/data/test.txt'"
   ]
  },
  {
   "cell_type": "code",
   "execution_count": 34,
   "id": "1c43c1fc",
   "metadata": {},
   "outputs": [
    {
     "name": "stdout",
     "output_type": "stream",
     "text": [
      "\u001b[33mWARNING: Running pip install with root privileges is generally not a good idea. Try `pip3 install --user` instead.\u001b[0m\n",
      "Requirement already satisfied: pandas in /usr/local/lib64/python3.8/site-packages (1.4.2)\n",
      "Requirement already satisfied: pytz>=2020.1 in /usr/local/lib/python3.8/site-packages (from pandas) (2022.1)\n",
      "Requirement already satisfied: numpy>=1.18.5; platform_machine != \"aarch64\" and platform_machine != \"arm64\" and python_version < \"3.10\" in /usr/local/lib64/python3.8/site-packages (from pandas) (1.22.4)\n",
      "Requirement already satisfied: python-dateutil>=2.8.1 in /usr/local/lib/python3.8/site-packages (from pandas) (2.8.2)\n",
      "Requirement already satisfied: six>=1.5 in /usr/local/lib/python3.8/site-packages (from python-dateutil>=2.8.1->pandas) (1.16.0)\n",
      "\u001b[33mWARNING: You are using pip version 19.3.1; however, version 22.1.1 is available.\n",
      "You should consider upgrading via the 'pip install --upgrade pip' command.\u001b[0m\n",
      "\u001b[33mWARNING: Running pip install with root privileges is generally not a good idea. Try `pip3 install --user` instead.\u001b[0m\n",
      "Collecting matplotlib\n",
      "\u001b[?25l  Downloading https://files.pythonhosted.org/packages/42/18/50a124008e624830fb8e2a5384802ba99ee0443994ebdee8f548c3732039/matplotlib-3.5.2-cp38-cp38-manylinux_2_5_x86_64.manylinux1_x86_64.whl (11.3MB)\n",
      "\u001b[K     |████████████████████████████████| 11.3MB 5.0MB/s eta 0:00:01\n",
      "\u001b[?25hCollecting fonttools>=4.22.0\n",
      "\u001b[?25l  Downloading https://files.pythonhosted.org/packages/2f/85/2f6e42fb4b537b9998835410578fb1973175b81691e9a82ab6668cf64b0b/fonttools-4.33.3-py3-none-any.whl (930kB)\n",
      "\u001b[K     |████████████████████████████████| 931kB 51.6MB/s eta 0:00:01\n",
      "\u001b[?25hCollecting pillow>=6.2.0\n",
      "\u001b[?25l  Downloading https://files.pythonhosted.org/packages/a3/51/ea18862c6a1d8a34aeee643545b6b69bbaff67a1430360d2081833526504/Pillow-9.1.1-cp38-cp38-manylinux_2_17_x86_64.manylinux2014_x86_64.whl (3.1MB)\n",
      "\u001b[K     |████████████████████████████████| 3.2MB 57.2MB/s eta 0:00:01\n",
      "\u001b[?25hRequirement already satisfied: pyparsing>=2.2.1 in /usr/local/lib/python3.8/site-packages (from matplotlib) (3.0.9)\n",
      "Requirement already satisfied: packaging>=20.0 in /usr/local/lib/python3.8/site-packages (from matplotlib) (21.3)\n",
      "Requirement already satisfied: python-dateutil>=2.7 in /usr/local/lib/python3.8/site-packages (from matplotlib) (2.8.2)\n",
      "Requirement already satisfied: numpy>=1.17 in /usr/local/lib64/python3.8/site-packages (from matplotlib) (1.22.4)\n",
      "Collecting cycler>=0.10\n",
      "  Downloading https://files.pythonhosted.org/packages/5c/f9/695d6bedebd747e5eb0fe8fad57b72fdf25411273a39791cde838d5a8f51/cycler-0.11.0-py3-none-any.whl\n",
      "Collecting kiwisolver>=1.0.1\n",
      "\u001b[?25l  Downloading https://files.pythonhosted.org/packages/c1/1a/c7557d40fc0f94aa589fed98196dac67b030fda63e1b3ea2f269351cc409/kiwisolver-1.4.2-cp38-cp38-manylinux_2_5_x86_64.manylinux1_x86_64.whl (1.2MB)\n",
      "\u001b[K     |████████████████████████████████| 1.2MB 63.2MB/s eta 0:00:01\n",
      "\u001b[?25hRequirement already satisfied: six>=1.5 in /usr/local/lib/python3.8/site-packages (from python-dateutil>=2.7->matplotlib) (1.16.0)\n",
      "Installing collected packages: fonttools, pillow, cycler, kiwisolver, matplotlib\n",
      "Successfully installed cycler-0.11.0 fonttools-4.33.3 kiwisolver-1.4.2 matplotlib-3.5.2 pillow-9.1.1\n",
      "\u001b[33mWARNING: You are using pip version 19.3.1; however, version 22.1.1 is available.\n",
      "You should consider upgrading via the 'pip install --upgrade pip' command.\u001b[0m\n"
     ]
    }
   ],
   "source": [
    "!pip3 install pandas\n",
    "!pip3 install matplotlib"
   ]
  },
  {
   "cell_type": "markdown",
   "id": "4ec953a2",
   "metadata": {},
   "source": [
    "We show first how the graph files are defined. Each row of the file contains a different edge. An edge has the following information:\n",
    "- Origin node\n",
    "- Destination node\n",
    "- Weight of the node\n",
    "- Type of the node (optional, not in this example)\n",
    "These fields are tab separated. We load, as an example, the training graph using Pandas."
   ]
  },
  {
   "cell_type": "code",
   "execution_count": 20,
   "id": "508daa11",
   "metadata": {},
   "outputs": [],
   "source": [
    "import pandas as pd\n",
    "import sys, os"
   ]
  },
  {
   "cell_type": "code",
   "execution_count": 7,
   "id": "2065e765",
   "metadata": {
    "scrolled": false
   },
   "outputs": [
    {
     "data": {
      "text/html": [
       "<div>\n",
       "<style scoped>\n",
       "    .dataframe tbody tr th:only-of-type {\n",
       "        vertical-align: middle;\n",
       "    }\n",
       "\n",
       "    .dataframe tbody tr th {\n",
       "        vertical-align: top;\n",
       "    }\n",
       "\n",
       "    .dataframe thead th {\n",
       "        text-align: right;\n",
       "    }\n",
       "</style>\n",
       "<table border=\"1\" class=\"dataframe\">\n",
       "  <thead>\n",
       "    <tr style=\"text-align: right;\">\n",
       "      <th></th>\n",
       "      <th>origin</th>\n",
       "      <th>dest</th>\n",
       "      <th>weight</th>\n",
       "    </tr>\n",
       "  </thead>\n",
       "  <tbody>\n",
       "    <tr>\n",
       "      <th>0</th>\n",
       "      <td>0</td>\n",
       "      <td>1</td>\n",
       "      <td>1.0</td>\n",
       "    </tr>\n",
       "    <tr>\n",
       "      <th>1</th>\n",
       "      <td>0</td>\n",
       "      <td>2</td>\n",
       "      <td>1.0</td>\n",
       "    </tr>\n",
       "    <tr>\n",
       "      <th>2</th>\n",
       "      <td>0</td>\n",
       "      <td>3</td>\n",
       "      <td>2.0</td>\n",
       "    </tr>\n",
       "    <tr>\n",
       "      <th>3</th>\n",
       "      <td>0</td>\n",
       "      <td>4</td>\n",
       "      <td>1.0</td>\n",
       "    </tr>\n",
       "    <tr>\n",
       "      <th>4</th>\n",
       "      <td>0</td>\n",
       "      <td>5</td>\n",
       "      <td>1.0</td>\n",
       "    </tr>\n",
       "    <tr>\n",
       "      <th>...</th>\n",
       "      <td>...</td>\n",
       "      <td>...</td>\n",
       "      <td>...</td>\n",
       "    </tr>\n",
       "    <tr>\n",
       "      <th>170420</th>\n",
       "      <td>542</td>\n",
       "      <td>4085</td>\n",
       "      <td>1.0</td>\n",
       "    </tr>\n",
       "    <tr>\n",
       "      <th>170421</th>\n",
       "      <td>9497</td>\n",
       "      <td>4</td>\n",
       "      <td>1.0</td>\n",
       "    </tr>\n",
       "    <tr>\n",
       "      <th>170422</th>\n",
       "      <td>9497</td>\n",
       "      <td>42</td>\n",
       "      <td>1.0</td>\n",
       "    </tr>\n",
       "    <tr>\n",
       "      <th>170423</th>\n",
       "      <td>9497</td>\n",
       "      <td>6</td>\n",
       "      <td>1.0</td>\n",
       "    </tr>\n",
       "    <tr>\n",
       "      <th>170424</th>\n",
       "      <td>9497</td>\n",
       "      <td>12</td>\n",
       "      <td>2.0</td>\n",
       "    </tr>\n",
       "  </tbody>\n",
       "</table>\n",
       "<p>170425 rows × 3 columns</p>\n",
       "</div>"
      ],
      "text/plain": [
       "        origin  dest  weight\n",
       "0            0     1     1.0\n",
       "1            0     2     1.0\n",
       "2            0     3     2.0\n",
       "3            0     4     1.0\n",
       "4            0     5     1.0\n",
       "...        ...   ...     ...\n",
       "170420     542  4085     1.0\n",
       "170421    9497     4     1.0\n",
       "170422    9497    42     1.0\n",
       "170423    9497     6     1.0\n",
       "170424    9497    12     2.0\n",
       "\n",
       "[170425 rows x 3 columns]"
      ]
     },
     "execution_count": 7,
     "metadata": {},
     "output_type": "execute_result"
    }
   ],
   "source": [
    "pd.read_csv(train_graph, delimiter='\\t', names=[\"origin\",\"dest\",\"weight\"])"
   ]
  },
  {
   "cell_type": "markdown",
   "id": "3ca45263",
   "metadata": {},
   "source": [
    "## Step 1: Analyzing the structural properties of a network\n",
    "\n",
    "Once we have a network, the first thing we might be interested on doing is to study its structural properties. In order to get such properties, we use the `sna` program provided by the library. If we execute it without further information, we might observe the required and optional arguments of the program and a description."
   ]
  },
  {
   "cell_type": "code",
   "execution_count": 8,
   "id": "8441ed67",
   "metadata": {},
   "outputs": [
    {
     "name": "stdout",
     "output_type": "stream",
     "text": [
      "sna\r\n",
      "ERROR: Invalid arguments.\r\n",
      "Usage:\r\n",
      "\tGraph file: a file containing the graph to analyze.\r\n",
      "\tMultigraph: true if the network allows multiple edges, false otherwise.\r\n",
      "\tDirected: true if the network is directed, false otherwise.\r\n",
      "\tWeighted: true if the network is weighted, false otherwise.\r\n",
      "\tSelfloops: true if the network allows self-loops, false otherwise.\r\n",
      "\tMetrics: a YAML file containing the metrics to compute.\r\n",
      "\tOutput: the directory in which to store the metrics.\r\n",
      "\r\n",
      "\tOptional parameters:\r\n",
      "\t\t-communities commFile1,...,commFileN: a comma separated list of files containing communities.\r\n",
      "\t\t--distances: include if we want to precompute distance metrics (recommended if any is used)\r\n"
     ]
    }
   ],
   "source": [
    "!java -jar $jar_file sna"
   ]
  },
  {
   "cell_type": "markdown",
   "id": "c1acf995",
   "metadata": {},
   "source": [
    "As we can observe, we need to provide information about the network to analyze, as well as a YAML file containing the metrics to compute and a dictionary to store the metrics. If we need to use communities, we can also provide files (we'll explore that later). Also, if we compute distance-based metrics, we can pre-compute them.\n",
    "\n",
    "In the case of just analyzing the properties of a network, using the `--distances` flag is recommended. Otherwise, it might be necessary to compute distances for each of the metrics.\n",
    "\n",
    "As example metrics, in this example, we are using the provided YAML file in the repository, which explores three metrics:\n",
    "- Clustering coefficient\n",
    "- Eccentricity\n",
    "- Embeddedness\n",
    "\n",
    "We print below the YAML file for executing these three metrics.\n",
    "\n",
    "```yaml\n",
    "metrics:\n",
    "  Clustering coefficient:\n",
    "    type: graph\n",
    "    params:\n",
    "      uSel:\n",
    "        type: orientation\n",
    "        values: IN\n",
    "      vSel:\n",
    "        type: orientation\n",
    "        values: OUT\n",
    "  Eccentricity:\n",
    "    type: vertex\n",
    "  Embeddedness:\n",
    "    type: edge\n",
    "    params:\n",
    "      uSel:\n",
    "        type: orientation\n",
    "        values: OUT\n",
    "      vSel:\n",
    "        type: orientation\n",
    "        values: IN \n",
    "```\n",
    "\n",
    "So, in the following commands, we define the outgoing folder, and we execute our program. We are working with a simple, directed and weighted graph. We shall avoid self-loops, so:"
   ]
  },
  {
   "cell_type": "code",
   "execution_count": 9,
   "id": "705f0371",
   "metadata": {},
   "outputs": [],
   "source": [
    "!mkdir ./metrics-res"
   ]
  },
  {
   "cell_type": "code",
   "execution_count": 22,
   "id": "3a35c6eb",
   "metadata": {},
   "outputs": [],
   "source": [
    "output_dir = \"./metrics-res/\"\n",
    "multigraph = \"false\"\n",
    "directed = \"true\"\n",
    "weighted = \"true\"\n",
    "self_loops = \"false\"\n",
    "metrics_yaml = \"./RELISON/Example\\\\ configuration\\\\ files/metrics-example.yml\""
   ]
  },
  {
   "cell_type": "markdown",
   "id": "c35d4486",
   "metadata": {},
   "source": [
    "!java -Xss10m -jar $jar_file sna $train_graph $multigraph $directed $weighted $self_loops $metrics_yaml $output_dir --distances"
   ]
  },
  {
   "cell_type": "markdown",
   "id": "08c8f410",
   "metadata": {},
   "source": [
    "Once the program has been executed, we can obtain the results from the output folder. In the example, we have studied vertex, edge and graph metrics, so we shall go throughout them."
   ]
  },
  {
   "cell_type": "markdown",
   "id": "caa22f9a",
   "metadata": {},
   "source": [
    "### Graph metrics\n",
    "Graph metrics are global to the whole graph. That means that a single numeric value is enough to represent it. The values of graph metrics are stored in the `global.txt` file in the output directory. Each line shows the name and value of the corresponding metric. In the case of individual vertex and edge metrics, this file contains the average value:"
   ]
  },
  {
   "cell_type": "code",
   "execution_count": 26,
   "id": "8df53cda",
   "metadata": {},
   "outputs": [
    {
     "data": {
      "text/html": [
       "<div>\n",
       "<style scoped>\n",
       "    .dataframe tbody tr th:only-of-type {\n",
       "        vertical-align: middle;\n",
       "    }\n",
       "\n",
       "    .dataframe tbody tr th {\n",
       "        vertical-align: top;\n",
       "    }\n",
       "\n",
       "    .dataframe thead th {\n",
       "        text-align: right;\n",
       "    }\n",
       "</style>\n",
       "<table border=\"1\" class=\"dataframe\">\n",
       "  <thead>\n",
       "    <tr style=\"text-align: right;\">\n",
       "      <th></th>\n",
       "      <th>value</th>\n",
       "    </tr>\n",
       "    <tr>\n",
       "      <th>metric</th>\n",
       "      <th></th>\n",
       "    </tr>\n",
       "  </thead>\n",
       "  <tbody>\n",
       "    <tr>\n",
       "      <th>Average Embeddedness_OUT_IN</th>\n",
       "      <td>0.024317</td>\n",
       "    </tr>\n",
       "    <tr>\n",
       "      <th>Average Eccentricity</th>\n",
       "      <td>6.673384</td>\n",
       "    </tr>\n",
       "    <tr>\n",
       "      <th>Clustering coefficient_IN_OUT</th>\n",
       "      <td>0.056206</td>\n",
       "    </tr>\n",
       "  </tbody>\n",
       "</table>\n",
       "</div>"
      ],
      "text/plain": [
       "                                  value\n",
       "metric                                 \n",
       "Average Embeddedness_OUT_IN    0.024317\n",
       "Average Eccentricity           6.673384\n",
       "Clustering coefficient_IN_OUT  0.056206"
      ]
     },
     "execution_count": 26,
     "metadata": {},
     "output_type": "execute_result"
    }
   ],
   "source": [
    "pd.read_csv(os.path.join(output_dir, \"global.txt\"), delimiter='\\t', index_col=0)"
   ]
  },
  {
   "cell_type": "markdown",
   "id": "1fa70c5f",
   "metadata": {},
   "source": [
    "### Vertex metrics\n",
    "Vertex metrics are properties related to a single node in the graph. As its distribution might be interesting, we store the individual values in the `vertex` directory of the output folder. For each metric, we store a different file. In this case, we only have the `Eccentricity` metric. Below, we show the nodes with a greater eccentricity (maximum finite distance from the node to the rest of them in the network)"
   ]
  },
  {
   "cell_type": "code",
   "execution_count": 29,
   "id": "b0945ffa",
   "metadata": {},
   "outputs": [
    {
     "data": {
      "text/html": [
       "<div>\n",
       "<style scoped>\n",
       "    .dataframe tbody tr th:only-of-type {\n",
       "        vertical-align: middle;\n",
       "    }\n",
       "\n",
       "    .dataframe tbody tr th {\n",
       "        vertical-align: top;\n",
       "    }\n",
       "\n",
       "    .dataframe thead th {\n",
       "        text-align: right;\n",
       "    }\n",
       "</style>\n",
       "<table border=\"1\" class=\"dataframe\">\n",
       "  <thead>\n",
       "    <tr style=\"text-align: right;\">\n",
       "      <th></th>\n",
       "      <th>metric</th>\n",
       "    </tr>\n",
       "    <tr>\n",
       "      <th>node</th>\n",
       "      <th></th>\n",
       "    </tr>\n",
       "  </thead>\n",
       "  <tbody>\n",
       "    <tr>\n",
       "      <th>9237</th>\n",
       "      <td>13.0</td>\n",
       "    </tr>\n",
       "    <tr>\n",
       "      <th>7897</th>\n",
       "      <td>13.0</td>\n",
       "    </tr>\n",
       "    <tr>\n",
       "      <th>7118</th>\n",
       "      <td>12.0</td>\n",
       "    </tr>\n",
       "    <tr>\n",
       "      <th>2413</th>\n",
       "      <td>12.0</td>\n",
       "    </tr>\n",
       "    <tr>\n",
       "      <th>8509</th>\n",
       "      <td>12.0</td>\n",
       "    </tr>\n",
       "    <tr>\n",
       "      <th>8208</th>\n",
       "      <td>12.0</td>\n",
       "    </tr>\n",
       "    <tr>\n",
       "      <th>7445</th>\n",
       "      <td>12.0</td>\n",
       "    </tr>\n",
       "    <tr>\n",
       "      <th>3196</th>\n",
       "      <td>12.0</td>\n",
       "    </tr>\n",
       "    <tr>\n",
       "      <th>7896</th>\n",
       "      <td>12.0</td>\n",
       "    </tr>\n",
       "    <tr>\n",
       "      <th>2773</th>\n",
       "      <td>12.0</td>\n",
       "    </tr>\n",
       "  </tbody>\n",
       "</table>\n",
       "</div>"
      ],
      "text/plain": [
       "      metric\n",
       "node        \n",
       "9237    13.0\n",
       "7897    13.0\n",
       "7118    12.0\n",
       "2413    12.0\n",
       "8509    12.0\n",
       "8208    12.0\n",
       "7445    12.0\n",
       "3196    12.0\n",
       "7896    12.0\n",
       "2773    12.0"
      ]
     },
     "execution_count": 29,
     "metadata": {},
     "output_type": "execute_result"
    }
   ],
   "source": [
    "eccentricity = pd.read_csv(os.path.join(os.path.join(output_dir, \"vertex\"), \"Eccentricity.txt\"), delimiter='\\t', index_col=0)\n",
    "eccentricity.sort_values(by=\"metric\", ascending=False).head(10)"
   ]
  },
  {
   "cell_type": "markdown",
   "id": "8897ca42",
   "metadata": {},
   "source": [
    "Considering that we have the individual data, it is simple for us to plot the distribution of the metric over the different nodes, in different formats.\n",
    "\n",
    "#### Example 1: Density-like distribution\n",
    "In this plot, the x axis shows the eccentricity values, and the y axis the number of nodes containing that value."
   ]
  },
  {
   "cell_type": "code",
   "execution_count": 71,
   "id": "7d0e4e08",
   "metadata": {},
   "outputs": [
    {
     "data": {
      "image/png": "[encoded data removed]",
      "text/plain": [
       "<Figure size 432x288 with 1 Axes>"
      ]
     },
     "metadata": {
      "needs_background": "light"
     },
     "output_type": "display_data"
    }
   ],
   "source": [
    "import matplotlib\n",
    "import matplotlib.pyplot as plt\n",
    "\n",
    "\n",
    "series = eccentricity['metric'].value_counts().sort_index()\n",
    "\n",
    "x_values = [x for x in series.keys()]\n",
    "x_values\n",
    "\n",
    "y_values = [y for y in series]\n",
    "y_values\n",
    "\n",
    "matplotlib.rc('xtick', labelsize=12) \n",
    "matplotlib.rc('ytick', labelsize=12)\n",
    "plt.suptitle('Eccentricity distribution', fontsize=20)\n",
    "plt.plot(x_values, y_values, 'b', marker=\"o\", markersize=5, linewidth=0.5)\n",
    "plt.axis([0, 13, 0, 6000])\n",
    "plt.xlabel('Eccentricity', fontsize=14)\n",
    "plt.ylabel('# Nodes', fontsize=14)\n",
    "plt.show()"
   ]
  },
  {
   "cell_type": "markdown",
   "id": "a03d21ab",
   "metadata": {},
   "source": [
    "#### Example 2: Cumulative like distribution\n",
    "Here, we plot in the x axis the number of the node, and, in the y axis, the eccentricity value. For this, we sort the values from greater to smaller."
   ]
  },
  {
   "cell_type": "code",
   "execution_count": 74,
   "id": "43f3267b",
   "metadata": {},
   "outputs": [
    {
     "data": {
      "image/png": "[encoded data removed]",
      "text/plain": [
       "<Figure size 432x288 with 1 Axes>"
      ]
     },
     "metadata": {
      "needs_background": "light"
     },
     "output_type": "display_data"
    }
   ],
   "source": [
    "import matplotlib\n",
    "import matplotlib.pyplot as plt\n",
    "\n",
    "x_values = []\n",
    "y_values = []\n",
    "\n",
    "i = 0\n",
    "for index, row in eccentricity.sort_values(by=\"metric\", ascending=True).iterrows():\n",
    "    x_values.append(i)\n",
    "    i += 1\n",
    "    y_values.append(row[\"metric\"])\n",
    "\n",
    "matplotlib.rc('xtick', labelsize=12) \n",
    "matplotlib.rc('ytick', labelsize=12)\n",
    "plt.suptitle('Eccentricity distribution', fontsize=20)\n",
    "plt.plot(x_values, y_values, 'b', marker=\"o\", markersize=5, linewidth=0.5)\n",
    "plt.axis([0, 10000, 0, 15])\n",
    "plt.xlabel('# Node', fontsize=14)\n",
    "plt.ylabel('Eccentricity', fontsize=14)\n",
    "plt.show()"
   ]
  }
 ],
 "metadata": {
  "kernelspec": {
   "display_name": "Python 3 (ipykernel)",
   "language": "python",
   "name": "python3"
  },
  "language_info": {
   "codemirror_mode": {
    "name": "ipython",
    "version": 3
   },
   "file_extension": ".py",
   "mimetype": "text/x-python",
   "name": "python",
   "nbconvert_exporter": "python",
   "pygments_lexer": "ipython3",
   "version": "3.8.12"
  }
 },
 "nbformat": 4,
 "nbformat_minor": 5
}
