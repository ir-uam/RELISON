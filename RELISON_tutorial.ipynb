{
 "cells": [
  {
   "cell_type": "markdown",
   "id": "03cfab3b",
   "metadata": {},
   "source": [
    "# RELISON: A framework for REcommending LInks in SOcial Networks\n",
    "\n",
    "RELISON is a framework for experimentation on the link recommendation task in social networks, which aims to identify those people in the network with whom a user might be interested to connect, interact or befriend. RELISON provides tools for executing and evaluating contact recommendation approaches, considering not only their accuracy, but also aspects like their novelty, diversity and the effects that such recommendations have on global properties of the networks (as changes in the structural properties or in the characteristics of the information arriving to the users). In order to measure these effects, RELISON also provides functionality for a) analyzing the structural properties of social networks, b) detecting clusters of users (communities) and c) simulating the diffusion of information in a social network. These functionalities can be used regardless of whether recommendations have been provided to the users.\n",
    "\n",
    "This notebook provides a simple tutorial on how to use the standard functionalities and command line programs of the RELISON framework. After the tutorial is finished, you shall learn how to:\n",
    "\n",
    "1. Generate random networks with different properties.\n",
    "2. Execute link recommendations over that network.\n",
    "3. Analyze the properties of a network or graph.\n",
    "4. Find communities of tightly connected users.\n"
   ]
  },
  {
   "cell_type": "markdown",
   "id": "c86421d6",
   "metadata": {},
   "source": [
    "## Installation\n",
    "\n",
    "As a first step, we need to install and configure the RELISON framework so we can work with it. In this case, we download it from the Git repository, we install the different Maven packages, and we build the definitive executable JAR, so we can execute the different command line programs provided by the framework.\n",
    "\n",
    "\n",
    "**Note:** If you have reached here from the provided Docker container in the repository, this step is unnecessary."
   ]
  },
  {
   "cell_type": "code",
   "execution_count": 1,
   "id": "0744b48c",
   "metadata": {},
   "outputs": [
    {
     "name": "stderr",
     "output_type": "stream",
     "text": [
      "Ya existe el subdirectorio o el archivo RELISON.\n",
      "  % Total    % Received % Xferd  Average Speed   Time    Time     Time  Current\n",
      "                                 Dload  Upload   Total   Spent    Left  Speed\n",
      "\n",
      "  0     0    0     0    0     0      0      0 --:--:-- --:--:-- --:--:--     0\n",
      "  0     0    0     0    0     0      0      0 --:--:-- --:--:-- --:--:--     0\n",
      "\n",
      "  0  138M    0  1371    0     0   1820      0 22:09:55 --:--:-- 22:09:55  1820\n",
      "  1  138M    1 1604k    0     0   925k      0  0:02:33  0:00:01  0:02:32 1634k\n",
      "  2  138M    2 3141k    0     0  1147k      0  0:02:03  0:00:02  0:02:01 1582k\n",
      "  3  138M    3 4758k    0     0  1274k      0  0:01:51  0:00:03  0:01:48 1595k\n",
      "  4  138M    4 6375k    0     0  1347k      0  0:01:45  0:00:04  0:01:41 1601k\n",
      "  5  138M    5 8001k    0     0  1394k      0  0:01:41  0:00:05  0:01:36 1605k\n",
      "  6  138M    6 9601k    0     0  1425k      0  0:01:39  0:00:06  0:01:33 1599k\n",
      "  7  138M    7 10.9M    0     0  1447k      0  0:01:37  0:00:07  0:01:30 1612k\n",
      "  8  138M    8 12.4M    0     0  1457k      0  0:01:37  0:00:08  0:01:29 1594k\n",
      " 10  138M   10 14.0M    0     0  1480k      0  0:01:35  0:00:09  0:01:26 1607k\n",
      " 11  138M   11 15.6M    0     0  1491k      0  0:01:35  0:00:10  0:01:25 1602k\n",
      " 12  138M   12 17.1M    0     0  1500k      0  0:01:34  0:00:11  0:01:23 1601k\n",
      " 13  138M   13 18.7M    0     0  1511k      0  0:01:33  0:00:12  0:01:21 1609k\n",
      " 14  138M   14 20.3M    0     0  1514k      0  0:01:33  0:00:13  0:01:20 1613k\n",
      " 15  138M   15 21.8M    0     0  1516k      0  0:01:33  0:00:14  0:01:19 1584k\n",
      " 16  138M   16 23.3M    0     0  1518k      0  0:01:33  0:00:15  0:01:18 1577k\n",
      " 17  138M   17 24.8M    0     0  1523k      0  0:01:33  0:00:16  0:01:17 1577k\n",
      " 19  138M   19 26.3M    0     0  1523k      0  0:01:33  0:00:17  0:01:16 1555k\n",
      " 20  138M   20 27.9M    0     0  1525k      0  0:01:32  0:00:18  0:01:14 1555k\n",
      " 21  138M   21 29.3M    0     0  1503k      0  0:01:34  0:00:19  0:01:15 1466k\n",
      " 22  138M   22 30.6M    0     0  1511k      0  0:01:33  0:00:20  0:01:13 1487k\n",
      " 23  138M   23 32.1M    0     0  1516k      0  0:01:33  0:00:21  0:01:12 1493k\n",
      " 24  138M   24 33.7M    0     0  1519k      0  0:01:33  0:00:22  0:01:11 1503k\n",
      " 25  138M   25 35.3M    0     0  1525k      0  0:01:32  0:00:23  0:01:09 1523k\n",
      " 26  138M   26 36.9M    0     0  1530k      0  0:01:32  0:00:24  0:01:08 1644k\n",
      " 27  138M   27 38.4M    0     0  1530k      0  0:01:32  0:00:25  0:01:07 1611k\n",
      " 28  138M   28 40.0M    0     0  1532k      0  0:01:32  0:00:26  0:01:06 1600k\n",
      " 29  138M   29 41.5M    0     0  1534k      0  0:01:32  0:00:27  0:01:05 1601k\n",
      " 31  138M   31 43.0M    0     0  1535k      0  0:01:32  0:00:28  0:01:04 1582k\n",
      " 32  138M   32 44.5M    0     0  1534k      0  0:01:32  0:00:29  0:01:03 1556k\n",
      " 33  138M   33 45.8M    0     0  1526k      0  0:01:32  0:00:30  0:01:02 1505k\n",
      " 34  138M   34 47.3M    0     0  1529k      0  0:01:32  0:00:31  0:01:01 1513k\n",
      " 35  138M   35 48.7M    0     0  1523k      0  0:01:33  0:00:32  0:01:01 1466k\n",
      " 35  138M   35 49.8M    0     0  1511k      0  0:01:33  0:00:33  0:01:00 1378k\n",
      " 37  138M   37 51.2M    0     0  1511k      0  0:01:33  0:00:34  0:00:59 1373k\n",
      " 38  138M   38 52.8M    0     0  1514k      0  0:01:33  0:00:35  0:00:58 1439k\n",
      " 39  138M   39 54.4M    0     0  1516k      0  0:01:33  0:00:36  0:00:57 1436k\n",
      " 40  138M   40 55.9M    0     0  1518k      0  0:01:33  0:00:37  0:00:56 1484k\n",
      " 41  138M   41 57.5M    0     0  1520k      0  0:01:33  0:00:38  0:00:55 1579k\n",
      " 42  138M   42 59.0M    0     0  1522k      0  0:01:33  0:00:39  0:00:54 1595k\n",
      " 43  138M   43 60.6M    0     0  1523k      0  0:01:33  0:00:40  0:00:53 1590k\n",
      " 44  138M   44 62.1M    0     0  1525k      0  0:01:32  0:00:41  0:00:51 1592k\n",
      " 46  138M   46 63.7M    0     0  1528k      0  0:01:32  0:00:42  0:00:50 1601k\n",
      " 47  138M   47 65.3M    0     0  1530k      0  0:01:32  0:00:43  0:00:49 1606k\n",
      " 48  138M   48 66.6M    0     0  1525k      0  0:01:32  0:00:44  0:00:48 1556k\n",
      " 49  138M   49 68.1M    0     0  1526k      0  0:01:32  0:00:45  0:00:47 1545k\n",
      " 50  138M   50 69.7M    0     0  1527k      0  0:01:32  0:00:46  0:00:46 1539k\n",
      " 51  138M   51 70.9M    0     0  1522k      0  0:01:33  0:00:47  0:00:46 1470k\n",
      " 52  138M   52 72.4M    0     0  1522k      0  0:01:33  0:00:48  0:00:45 1456k\n",
      " 53  138M   53 74.0M    0     0  1524k      0  0:01:33  0:00:49  0:00:44 1508k\n",
      " 54  138M   54 75.6M    0     0  1526k      0  0:01:32  0:00:50  0:00:42 1528k\n",
      " 55  138M   55 77.2M    0     0  1527k      0  0:01:32  0:00:51  0:00:41 1531k\n",
      " 56  138M   56 78.4M    0     0  1523k      0  0:01:33  0:00:52  0:00:41 1532k\n",
      " 57  138M   57 79.9M    0     0  1523k      0  0:01:33  0:00:53  0:00:40 1532k\n",
      " 58  138M   58 81.4M    0     0  1524k      0  0:01:33  0:00:54  0:00:39 1522k\n",
      " 59  138M   59 82.9M    0     0  1524k      0  0:01:33  0:00:55  0:00:38 1508k\n",
      " 60  138M   60 84.4M    0     0  1524k      0  0:01:33  0:00:56  0:00:37 1489k\n",
      " 62  138M   62 85.9M    0     0  1523k      0  0:01:33  0:00:57  0:00:36 1527k\n",
      " 63  138M   63 87.4M    0     0  1525k      0  0:01:32  0:00:58  0:00:34 1542k\n",
      " 64  138M   64 89.0M    0     0  1525k      0  0:01:32  0:00:59  0:00:33 1544k\n",
      " 65  138M   65 90.5M    0     0  1526k      0  0:01:32  0:01:00  0:00:32 1541k\n",
      " 66  138M   66 92.0M    0     0  1527k      0  0:01:32  0:01:01  0:00:31 1562k\n",
      " 67  138M   67 93.5M    0     0  1527k      0  0:01:32  0:01:02  0:00:30 1572k\n",
      " 68  138M   68 95.0M    0     0  1527k      0  0:01:32  0:01:03  0:00:29 1559k\n",
      " 69  138M   69 96.6M    0     0  1528k      0  0:01:32  0:01:04  0:00:28 1556k\n",
      " 70  138M   70 97.9M    0     0  1525k      0  0:01:32  0:01:05  0:00:27 1517k\n",
      " 71  138M   71 99.3M    0     0  1524k      0  0:01:33  0:01:06  0:00:27 1493k\n",
      " 72  138M   72  100M    0     0  1522k      0  0:01:33  0:01:07  0:00:26 1456k\n",
      " 73  138M   73  102M    0     0  1516k      0  0:01:33  0:01:08  0:00:25 1377k\n",
      " 74  138M   74  103M    0     0  1515k      0  0:01:33  0:01:09  0:00:24 1353k\n",
      " 75  138M   75  104M    0     0  1516k      0  0:01:33  0:01:10  0:00:23 1394k\n",
      " 76  138M   76  106M    0     0  1517k      0  0:01:33  0:01:11  0:00:22 1422k\n",
      " 77  138M   77  107M    0     0  1518k      0  0:01:33  0:01:12  0:00:21 1463k\n",
      " 79  138M   79  109M    0     0  1520k      0  0:01:33  0:01:13  0:00:20 1576k\n",
      " 80  138M   80  111M    0     0  1520k      0  0:01:33  0:01:14  0:00:19 1595k\n",
      " 81  138M   81  112M    0     0  1521k      0  0:01:33  0:01:15  0:00:18 1602k\n",
      " 82  138M   82  114M    0     0  1523k      0  0:01:33  0:01:16  0:00:17 1610k\n",
      " 83  138M   83  115M    0     0  1521k      0  0:01:33  0:01:17  0:00:16 1565k\n",
      " 84  138M   84  116M    0     0  1521k      0  0:01:33  0:01:18  0:00:15 1536k\n",
      " 85  138M   85  118M    0     0  1521k      0  0:01:33  0:01:19  0:00:14 1534k\n",
      " 86  138M   86  120M    0     0  1522k      0  0:01:33  0:01:20  0:00:13 1534k\n",
      " 87  138M   87  121M    0     0  1522k      0  0:01:33  0:01:21  0:00:12 1509k\n",
      " 88  138M   88  123M    0     0  1523k      0  0:01:33  0:01:22  0:00:11 1553k\n",
      " 89  138M   89  124M    0     0  1523k      0  0:01:33  0:01:23  0:00:10 1556k\n",
      " 91  138M   91  126M    0     0  1524k      0  0:01:33  0:01:24  0:00:09 1558k\n",
      " 92  138M   92  127M    0     0  1524k      0  0:01:33  0:01:25  0:00:08 1552k\n",
      " 93  138M   93  129M    0     0  1524k      0  0:01:32  0:01:26  0:00:06 1558k\n",
      " 94  138M   94  130M    0     0  1523k      0  0:01:33  0:01:27  0:00:06 1524k\n",
      " 95  138M   95  131M    0     0  1522k      0  0:01:33  0:01:28  0:00:05 1509k\n",
      " 96  138M   96  133M    0     0  1520k      0  0:01:33  0:01:29  0:00:04 1454k\n",
      " 97  138M   97  134M    0     0  1520k      0  0:01:33  0:01:30  0:00:03 1449k\n",
      " 98  138M   98  136M    0     0  1521k      0  0:01:33  0:01:31  0:00:02 1454k\n",
      " 99  138M   99  137M    0     0  1520k      0  0:01:33  0:01:32  0:00:01 1469k\n",
      "100  138M  100  138M    0     0  1518k      0  0:01:33  0:01:33 --:--:-- 1441k\n"
     ]
    }
   ],
   "source": [
    "!mkdir RELISON\n",
    "!curl -L https://github.com/ir-uam/RELISON/releases/download/v1.0.0-maven/relison.jar --output RELISON/relison.jar"
   ]
  },
  {
   "cell_type": "code",
   "execution_count": 2,
   "id": "d7c00669",
   "metadata": {},
   "outputs": [
    {
     "name": "stdout",
     "output_type": "stream",
     "text": [
      "C:\\Users\\Javier\\Documents\\RELISON\n",
      "C:\\Users\\Javier\\Documents\n"
     ]
    },
    {
     "name": "stderr",
     "output_type": "stream",
     "text": [
      "Ya existe el subdirectorio o el archivo data.\n"
     ]
    }
   ],
   "source": [
    "%cd RELISON\n",
    "!mkdir data\n",
    "%cd .."
   ]
  },
  {
   "cell_type": "markdown",
   "id": "25c6f352",
   "metadata": {},
   "source": [
    "Once we have installed our repository, we can configure the variables we are going to need to execute the tutorial. need to define the following variables:\n",
    "- **JAR file:** The actual location of the JAR file. If it has been downloaded through the previous commands, it should be on `./RELISON/RELISON.jar`. If you are using the Docker image, it is on `/tmp/RELISON/RELISON.jar`.\n",
    "- **Training graph:** The example training graph\n",
    "- **Test graph:** The example test graph."
   ]
  },
  {
   "cell_type": "code",
   "execution_count": 3,
   "id": "9f6ce9c1",
   "metadata": {},
   "outputs": [],
   "source": [
    "jar_file = './RELISON/RELISON.jar'\n",
    "train_graph = './RELISON/data/train.txt'\n",
    "test_graph = './RELISON/data/test.txt'\n",
    "graph = './RELISON/data/graph.txt'"
   ]
  },
  {
   "cell_type": "code",
   "execution_count": 4,
   "id": "1c43c1fc",
   "metadata": {},
   "outputs": [
    {
     "name": "stdout",
     "output_type": "stream",
     "text": [
      "Requirement already satisfied: pandas in d:\\anaconda3\\lib\\site-packages (1.2.4)\n",
      "Requirement already satisfied: pytz>=2017.3 in d:\\anaconda3\\lib\\site-packages (from pandas) (2021.1)\n",
      "Requirement already satisfied: python-dateutil>=2.7.3 in d:\\anaconda3\\lib\\site-packages (from pandas) (2.8.1)\n",
      "Requirement already satisfied: numpy>=1.16.5 in d:\\anaconda3\\lib\\site-packages (from pandas) (1.20.1)\n",
      "Requirement already satisfied: six>=1.5 in d:\\anaconda3\\lib\\site-packages (from python-dateutil>=2.7.3->pandas) (1.15.0)\n",
      "Requirement already satisfied: matplotlib in d:\\anaconda3\\lib\\site-packages (3.3.4)\n",
      "Requirement already satisfied: python-dateutil>=2.1 in d:\\anaconda3\\lib\\site-packages (from matplotlib) (2.8.1)\n",
      "Requirement already satisfied: pyparsing!=2.0.4,!=2.1.2,!=2.1.6,>=2.0.3 in d:\\anaconda3\\lib\\site-packages (from matplotlib) (2.4.7)\n",
      "Requirement already satisfied: cycler>=0.10 in d:\\anaconda3\\lib\\site-packages (from matplotlib) (0.10.0)\n",
      "Requirement already satisfied: numpy>=1.15 in d:\\anaconda3\\lib\\site-packages (from matplotlib) (1.20.1)\n",
      "Requirement already satisfied: pillow>=6.2.0 in d:\\anaconda3\\lib\\site-packages (from matplotlib) (8.2.0)\n",
      "Requirement already satisfied: kiwisolver>=1.0.1 in d:\\anaconda3\\lib\\site-packages (from matplotlib) (1.3.1)\n",
      "Requirement already satisfied: six in d:\\anaconda3\\lib\\site-packages (from cycler>=0.10->matplotlib) (1.15.0)\n"
     ]
    }
   ],
   "source": [
    "!pip3 install pandas\n",
    "!pip3 install matplotlib"
   ]
  },
  {
   "cell_type": "markdown",
   "id": "4ec953a2",
   "metadata": {},
   "source": [
    "We show first how the graph files are defined. Each row of the file contains a different edge. An edge has the following information:\n",
    "- Origin node\n",
    "- Destination node\n",
    "- Weight of the node\n",
    "- Type of the node (optional, not in this example)\n",
    "These fields are tab separated. We load, as an example, the training graph using Pandas."
   ]
  },
  {
   "cell_type": "code",
   "execution_count": 5,
   "id": "508daa11",
   "metadata": {},
   "outputs": [],
   "source": [
    "import pandas as pd\n",
    "import sys, os"
   ]
  },
  {
   "cell_type": "markdown",
   "id": "62e58c3d",
   "metadata": {},
   "source": [
    "## Step 1: Automatic graph generation\n",
    "As a first step, we are crafting an automatic network, using the graph generation capabilities of the RELISON library. The RELISON library provides a program, `graphgen`, for automatic generation of networks."
   ]
  },
  {
   "cell_type": "code",
   "execution_count": 6,
   "id": "96e6d1f4",
   "metadata": {},
   "outputs": [
    {
     "name": "stdout",
     "output_type": "stream",
     "text": [
      "graphgen\n"
     ]
    },
    {
     "name": "stderr",
     "output_type": "stream",
     "text": [
      "ERROR: Invalid arguments\n",
      "\tOutput: file where we want to store the network.\n",
      "\tDirected: true if the network is directed, false otherwise.\n",
      "\tAlgorithm: the name of the graph generation algorithm.\n",
      "\t\tempty : the empty graph.\n",
      "\t\tcomplete : the complete graph.\n",
      "\t\trandom : an Erdos-Renyi graph.\n",
      "\t\tpreferential-attachment : the Barabasi-Albert graph.\n",
      "\t\twatts-strogatz : the Watts-Strogatz graph.\n"
     ]
    }
   ],
   "source": [
    "!java -jar $jar_file graphgen"
   ]
  },
  {
   "cell_type": "markdown",
   "id": "208c48b6",
   "metadata": {},
   "source": [
    "The program receives the following arguments:\n",
    "- **output:** the file where we want to store the network\n",
    "- **directed:** `true` if the network is directed, `false` otherwise\n",
    "- **num_nodes:** the number of nodes in the network\n",
    "- **algorithm:** the identifier of the algorithm\n",
    "- **parameters:** the list of parameters of the algorithm.\n",
    "\n",
    "In this example, we are generating a simple graph with 100 nodes using the random Erdos-Renyi graph. This graph receives, as parameter, the number of nodes and the probability of connection between them:"
   ]
  },
  {
   "cell_type": "code",
   "execution_count": 7,
   "id": "8f8a5e98",
   "metadata": {},
   "outputs": [
    {
     "name": "stdout",
     "output_type": "stream",
     "text": [
      "graphgen\n",
      "Configuring graph generator\n"
     ]
    },
    {
     "name": "stderr",
     "output_type": "stream",
     "text": [
      "ERROR: Invalid arguments for the Erdös-Renyi graph\n",
      "Missing: \n",
      "\t prob: link creation probability\n"
     ]
    }
   ],
   "source": [
    "!java -jar $jar_file graphgen RELISON/data/graph.txt false 100 random"
   ]
  },
  {
   "cell_type": "markdown",
   "id": "4a87f887",
   "metadata": {},
   "source": [
    "As we need a probability of link creation, we establish it in 0.1"
   ]
  },
  {
   "cell_type": "code",
   "execution_count": 8,
   "id": "17a32be4",
   "metadata": {},
   "outputs": [
    {
     "name": "stdout",
     "output_type": "stream",
     "text": [
      "graphgen\n",
      "Configuring graph generator\n",
      "Finished configuring graph generator (3 ms.)\n",
      "Generating graph...\n",
      "Finished generating graph + (38 ms.\n",
      "Writing the graph...\n",
      "Finished writing the graph (69 ms.)\n"
     ]
    }
   ],
   "source": [
    "!java -jar $jar_file graphgen RELISON/data/graph.txt false 100 random 0.1"
   ]
  },
  {
   "cell_type": "markdown",
   "id": "46bcfcc7",
   "metadata": {},
   "source": [
    "If we read it, we observe the following file:"
   ]
  },
  {
   "cell_type": "code",
   "execution_count": 9,
   "id": "764e1c7e",
   "metadata": {},
   "outputs": [
    {
     "data": {
      "text/html": [
       "<div>\n",
       "<style scoped>\n",
       "    .dataframe tbody tr th:only-of-type {\n",
       "        vertical-align: middle;\n",
       "    }\n",
       "\n",
       "    .dataframe tbody tr th {\n",
       "        vertical-align: top;\n",
       "    }\n",
       "\n",
       "    .dataframe thead th {\n",
       "        text-align: right;\n",
       "    }\n",
       "</style>\n",
       "<table border=\"1\" class=\"dataframe\">\n",
       "  <thead>\n",
       "    <tr style=\"text-align: right;\">\n",
       "      <th></th>\n",
       "      <th>Origin</th>\n",
       "      <th>Destination</th>\n",
       "      <th>Weight</th>\n",
       "    </tr>\n",
       "  </thead>\n",
       "  <tbody>\n",
       "    <tr>\n",
       "      <th>0</th>\n",
       "      <td>0</td>\n",
       "      <td>4</td>\n",
       "      <td>1.0</td>\n",
       "    </tr>\n",
       "    <tr>\n",
       "      <th>1</th>\n",
       "      <td>0</td>\n",
       "      <td>7</td>\n",
       "      <td>1.0</td>\n",
       "    </tr>\n",
       "    <tr>\n",
       "      <th>2</th>\n",
       "      <td>0</td>\n",
       "      <td>23</td>\n",
       "      <td>1.0</td>\n",
       "    </tr>\n",
       "    <tr>\n",
       "      <th>3</th>\n",
       "      <td>0</td>\n",
       "      <td>50</td>\n",
       "      <td>1.0</td>\n",
       "    </tr>\n",
       "    <tr>\n",
       "      <th>4</th>\n",
       "      <td>0</td>\n",
       "      <td>53</td>\n",
       "      <td>1.0</td>\n",
       "    </tr>\n",
       "    <tr>\n",
       "      <th>...</th>\n",
       "      <td>...</td>\n",
       "      <td>...</td>\n",
       "      <td>...</td>\n",
       "    </tr>\n",
       "    <tr>\n",
       "      <th>490</th>\n",
       "      <td>91</td>\n",
       "      <td>95</td>\n",
       "      <td>1.0</td>\n",
       "    </tr>\n",
       "    <tr>\n",
       "      <th>491</th>\n",
       "      <td>93</td>\n",
       "      <td>96</td>\n",
       "      <td>1.0</td>\n",
       "    </tr>\n",
       "    <tr>\n",
       "      <th>492</th>\n",
       "      <td>93</td>\n",
       "      <td>97</td>\n",
       "      <td>1.0</td>\n",
       "    </tr>\n",
       "    <tr>\n",
       "      <th>493</th>\n",
       "      <td>95</td>\n",
       "      <td>99</td>\n",
       "      <td>1.0</td>\n",
       "    </tr>\n",
       "    <tr>\n",
       "      <th>494</th>\n",
       "      <td>96</td>\n",
       "      <td>97</td>\n",
       "      <td>1.0</td>\n",
       "    </tr>\n",
       "  </tbody>\n",
       "</table>\n",
       "<p>495 rows × 3 columns</p>\n",
       "</div>"
      ],
      "text/plain": [
       "     Origin  Destination  Weight\n",
       "0         0            4     1.0\n",
       "1         0            7     1.0\n",
       "2         0           23     1.0\n",
       "3         0           50     1.0\n",
       "4         0           53     1.0\n",
       "..      ...          ...     ...\n",
       "490      91           95     1.0\n",
       "491      93           96     1.0\n",
       "492      93           97     1.0\n",
       "493      95           99     1.0\n",
       "494      96           97     1.0\n",
       "\n",
       "[495 rows x 3 columns]"
      ]
     },
     "execution_count": 9,
     "metadata": {},
     "output_type": "execute_result"
    }
   ],
   "source": [
    "graph_file = pd.read_csv(\"RELISON/data/graph.txt\", sep=\"\\t\", names=[\"Origin\", \"Destination\", \"Weight\"])\n",
    "graph_file"
   ]
  },
  {
   "cell_type": "markdown",
   "id": "3bfb7e1f",
   "metadata": {},
   "source": [
    "Before to continue, for experimental reasons, we split the graph into two networks: one for training and one for testing"
   ]
  },
  {
   "cell_type": "code",
   "execution_count": 10,
   "id": "520e6f05",
   "metadata": {},
   "outputs": [],
   "source": [
    "train = graph_file.sample(frac=0.8)\n",
    "test = graph_file.drop(train.index)"
   ]
  },
  {
   "cell_type": "code",
   "execution_count": 11,
   "id": "548ab5d1",
   "metadata": {},
   "outputs": [
    {
     "data": {
      "text/html": [
       "<div>\n",
       "<style scoped>\n",
       "    .dataframe tbody tr th:only-of-type {\n",
       "        vertical-align: middle;\n",
       "    }\n",
       "\n",
       "    .dataframe tbody tr th {\n",
       "        vertical-align: top;\n",
       "    }\n",
       "\n",
       "    .dataframe thead th {\n",
       "        text-align: right;\n",
       "    }\n",
       "</style>\n",
       "<table border=\"1\" class=\"dataframe\">\n",
       "  <thead>\n",
       "    <tr style=\"text-align: right;\">\n",
       "      <th></th>\n",
       "      <th>Origin</th>\n",
       "      <th>Destination</th>\n",
       "      <th>Weight</th>\n",
       "    </tr>\n",
       "  </thead>\n",
       "  <tbody>\n",
       "    <tr>\n",
       "      <th>229</th>\n",
       "      <td>28</td>\n",
       "      <td>41</td>\n",
       "      <td>1.0</td>\n",
       "    </tr>\n",
       "    <tr>\n",
       "      <th>365</th>\n",
       "      <td>52</td>\n",
       "      <td>58</td>\n",
       "      <td>1.0</td>\n",
       "    </tr>\n",
       "    <tr>\n",
       "      <th>351</th>\n",
       "      <td>49</td>\n",
       "      <td>63</td>\n",
       "      <td>1.0</td>\n",
       "    </tr>\n",
       "    <tr>\n",
       "      <th>466</th>\n",
       "      <td>77</td>\n",
       "      <td>94</td>\n",
       "      <td>1.0</td>\n",
       "    </tr>\n",
       "    <tr>\n",
       "      <th>435</th>\n",
       "      <td>65</td>\n",
       "      <td>85</td>\n",
       "      <td>1.0</td>\n",
       "    </tr>\n",
       "    <tr>\n",
       "      <th>...</th>\n",
       "      <td>...</td>\n",
       "      <td>...</td>\n",
       "      <td>...</td>\n",
       "    </tr>\n",
       "    <tr>\n",
       "      <th>102</th>\n",
       "      <td>11</td>\n",
       "      <td>96</td>\n",
       "      <td>1.0</td>\n",
       "    </tr>\n",
       "    <tr>\n",
       "      <th>441</th>\n",
       "      <td>67</td>\n",
       "      <td>71</td>\n",
       "      <td>1.0</td>\n",
       "    </tr>\n",
       "    <tr>\n",
       "      <th>314</th>\n",
       "      <td>42</td>\n",
       "      <td>57</td>\n",
       "      <td>1.0</td>\n",
       "    </tr>\n",
       "    <tr>\n",
       "      <th>256</th>\n",
       "      <td>32</td>\n",
       "      <td>50</td>\n",
       "      <td>1.0</td>\n",
       "    </tr>\n",
       "    <tr>\n",
       "      <th>409</th>\n",
       "      <td>59</td>\n",
       "      <td>99</td>\n",
       "      <td>1.0</td>\n",
       "    </tr>\n",
       "  </tbody>\n",
       "</table>\n",
       "<p>396 rows × 3 columns</p>\n",
       "</div>"
      ],
      "text/plain": [
       "     Origin  Destination  Weight\n",
       "229      28           41     1.0\n",
       "365      52           58     1.0\n",
       "351      49           63     1.0\n",
       "466      77           94     1.0\n",
       "435      65           85     1.0\n",
       "..      ...          ...     ...\n",
       "102      11           96     1.0\n",
       "441      67           71     1.0\n",
       "314      42           57     1.0\n",
       "256      32           50     1.0\n",
       "409      59           99     1.0\n",
       "\n",
       "[396 rows x 3 columns]"
      ]
     },
     "execution_count": 11,
     "metadata": {},
     "output_type": "execute_result"
    }
   ],
   "source": [
    "train"
   ]
  },
  {
   "cell_type": "code",
   "execution_count": 12,
   "id": "6faeaba7",
   "metadata": {},
   "outputs": [
    {
     "data": {
      "text/html": [
       "<div>\n",
       "<style scoped>\n",
       "    .dataframe tbody tr th:only-of-type {\n",
       "        vertical-align: middle;\n",
       "    }\n",
       "\n",
       "    .dataframe tbody tr th {\n",
       "        vertical-align: top;\n",
       "    }\n",
       "\n",
       "    .dataframe thead th {\n",
       "        text-align: right;\n",
       "    }\n",
       "</style>\n",
       "<table border=\"1\" class=\"dataframe\">\n",
       "  <thead>\n",
       "    <tr style=\"text-align: right;\">\n",
       "      <th></th>\n",
       "      <th>Origin</th>\n",
       "      <th>Destination</th>\n",
       "      <th>Weight</th>\n",
       "    </tr>\n",
       "  </thead>\n",
       "  <tbody>\n",
       "    <tr>\n",
       "      <th>1</th>\n",
       "      <td>0</td>\n",
       "      <td>7</td>\n",
       "      <td>1.0</td>\n",
       "    </tr>\n",
       "    <tr>\n",
       "      <th>3</th>\n",
       "      <td>0</td>\n",
       "      <td>50</td>\n",
       "      <td>1.0</td>\n",
       "    </tr>\n",
       "    <tr>\n",
       "      <th>12</th>\n",
       "      <td>1</td>\n",
       "      <td>21</td>\n",
       "      <td>1.0</td>\n",
       "    </tr>\n",
       "    <tr>\n",
       "      <th>13</th>\n",
       "      <td>1</td>\n",
       "      <td>24</td>\n",
       "      <td>1.0</td>\n",
       "    </tr>\n",
       "    <tr>\n",
       "      <th>19</th>\n",
       "      <td>1</td>\n",
       "      <td>88</td>\n",
       "      <td>1.0</td>\n",
       "    </tr>\n",
       "    <tr>\n",
       "      <th>...</th>\n",
       "      <td>...</td>\n",
       "      <td>...</td>\n",
       "      <td>...</td>\n",
       "    </tr>\n",
       "    <tr>\n",
       "      <th>470</th>\n",
       "      <td>79</td>\n",
       "      <td>92</td>\n",
       "      <td>1.0</td>\n",
       "    </tr>\n",
       "    <tr>\n",
       "      <th>482</th>\n",
       "      <td>86</td>\n",
       "      <td>90</td>\n",
       "      <td>1.0</td>\n",
       "    </tr>\n",
       "    <tr>\n",
       "      <th>485</th>\n",
       "      <td>88</td>\n",
       "      <td>93</td>\n",
       "      <td>1.0</td>\n",
       "    </tr>\n",
       "    <tr>\n",
       "      <th>486</th>\n",
       "      <td>88</td>\n",
       "      <td>97</td>\n",
       "      <td>1.0</td>\n",
       "    </tr>\n",
       "    <tr>\n",
       "      <th>489</th>\n",
       "      <td>90</td>\n",
       "      <td>99</td>\n",
       "      <td>1.0</td>\n",
       "    </tr>\n",
       "  </tbody>\n",
       "</table>\n",
       "<p>99 rows × 3 columns</p>\n",
       "</div>"
      ],
      "text/plain": [
       "     Origin  Destination  Weight\n",
       "1         0            7     1.0\n",
       "3         0           50     1.0\n",
       "12        1           21     1.0\n",
       "13        1           24     1.0\n",
       "19        1           88     1.0\n",
       "..      ...          ...     ...\n",
       "470      79           92     1.0\n",
       "482      86           90     1.0\n",
       "485      88           93     1.0\n",
       "486      88           97     1.0\n",
       "489      90           99     1.0\n",
       "\n",
       "[99 rows x 3 columns]"
      ]
     },
     "execution_count": 12,
     "metadata": {},
     "output_type": "execute_result"
    }
   ],
   "source": [
    "test"
   ]
  },
  {
   "cell_type": "code",
   "execution_count": 13,
   "id": "e54df8b9",
   "metadata": {},
   "outputs": [],
   "source": [
    "train.to_csv(train_graph, sep=\"\\t\", index=False)\n",
    "test.to_csv(test_graph, sep=\"\\t\", index=False)"
   ]
  },
  {
   "cell_type": "markdown",
   "id": "fb672e3c",
   "metadata": {},
   "source": [
    "## Step 2: Recommending links in a network\n",
    "Once we have the network, we can apply over it different link recommendation algorithms. In order to do this, we apply the `recommendation` program provided by the RELISON algorithm. If we execute it without further information, we might observe the required and optional arguments of the program and a description of them"
   ]
  },
  {
   "cell_type": "code",
   "execution_count": 14,
   "id": "1b0d5fbc",
   "metadata": {},
   "outputs": [
    {
     "name": "stdout",
     "output_type": "stream",
     "text": [
      "recommendation"
     ]
    },
    {
     "name": "stderr",
     "output_type": "stream",
     "text": [
      "Invalid arguments.\n",
      "Usage:\n",
      "\tTrain: Route to the file containing the training graph.\n",
      "\tTest: Route to the file containing the test links.\n",
      "\tMultigraph: true if the network allows multiple edges, false otherwise.\n",
      "\tDirected: true if the network is directed, false otherwise.\n",
      "\tWeighted: true if the network is weighted, false otherwise.\n",
      "\tSelfloops: true if the network allows self-loops, false otherwise.\n",
      "\tReadTypes: true if we have to read the edge types from the file, false otherwise.\n",
      "\tAlgorithms: Route to a YAML file containing the recommender configurations.\n",
      "\tOutput directory: Directory in which to store the recommendations and the output file.\n",
      "\tRec. Length: Maximum number of recommendations per user.\n",
      "\n",
      "\tOptional arguments:\n",
      "\t\t-users test/all: selects the subset of users for whom we generate recommendation (all of them, or just those in test.\n",
      "\t\t-print value: true if, additionally to the results, you want to print the recommendations, false otherwise (by default, true)\n",
      "\t\t-reciprocal value: true if we want to recommend reciprocal links, false otherwise (by default, false)\n",
      "\t\t-distance max directed: if we want to limit the maximum distance from the target user to the recommended ones. max indicates the distance value whereas directed indicates if we measure the distance over a directed (true) or undirected graph (false)\n",
      "\t\t-feat-data file index: if we want to compute feature-dependant metrics, this contains the feature information. File indicates the route to the file, whereas index is true if we have to read the features from an inverted index.\n",
      "\t\t-comms commFile: a route to a file specifying the communities of the users (by default, all users belong to the same community)\n"
     ]
    },
    {
     "name": "stdout",
     "output_type": "stream",
     "text": [
      "\n"
     ]
    }
   ],
   "source": [
    "!java -jar $jar_file recommendation"
   ]
  },
  {
   "cell_type": "markdown",
   "id": "27945ae9",
   "metadata": {},
   "source": [
    "In this program, we need to provided the training and test networks we generated earlier, and information about them (whether they are multigraphs, directed, weighted, we allow them to have self-loops or if they have types we might want to read). Appart from that, we need to provide a YAML file containing the information about the algorithms and evaluation metrics to compute and a directory where to store the recommendations. If we need to use feature data, we can provide that using the optional parameters."
   ]
  },
  {
   "cell_type": "code",
   "execution_count": 15,
   "id": "3ea9ad24",
   "metadata": {},
   "outputs": [
    {
     "name": "stderr",
     "output_type": "stream",
     "text": [
      "  % Total    % Received % Xferd  Average Speed   Time    Time     Time  Current\n",
      "                                 Dload  Upload   Total   Spent    Left  Speed\n",
      "\n",
      "  0     0    0     0    0     0      0      0 --:--:-- --:--:-- --:--:--     0\n",
      "100   656  100   656    0     0   3416      0 --:--:-- --:--:-- --:--:--  3434\n",
      "Ya existe el subdirectorio o el archivo rec-res.\n"
     ]
    }
   ],
   "source": [
    "!curl -L https://raw.githubusercontent.com/ir-uam/RELISON/master/Example%20configuration%20files/algorithms-example.yml --output rec.yml\n",
    "!mkdir rec-res"
   ]
  },
  {
   "cell_type": "markdown",
   "id": "da3ef866",
   "metadata": {},
   "source": [
    "As example algorithms, in this example, we are using the provided YAML file in the repository, which explores four algorithms:\n",
    "- Implicit Matrix Factorization\n",
    "- BM25\n",
    "- Popularity\n",
    "- Random\n",
    "\n",
    "and we evaluate them using nDCG@10 and MAP@10\n",
    "\n",
    "We print below the YAML file for executing these algorithms and metrics\n",
    "\n",
    "```yaml\n",
    "algorithms:\n",
    "  iMF:\n",
    "    k:\n",
    "      type: int\n",
    "      values: 300\n",
    "    lambda:\n",
    "      type: double\n",
    "      values: 150.0\n",
    "    alpha:\n",
    "      type: double\n",
    "      values: 40.0\n",
    "    weighted:\n",
    "      type: boolean\n",
    "      values: false\n",
    "  BM25:\n",
    "    uSel:\n",
    "      type: orientation\n",
    "      values: OUT\n",
    "    vSel:\n",
    "      type: orientation\n",
    "      values: IN\n",
    "    dlSel:\n",
    "      type: orientation\n",
    "      values: OUT\n",
    "    k:\n",
    "      type: double\n",
    "      values: 0.1\n",
    "    b:\n",
    "      type: double\n",
    "      values: 0.1\n",
    "    weighted:\n",
    "      type: boolean\n",
    "      values: true\n",
    "  Popularity:\n",
    "  Random:\n",
    "metrics:\n",
    "  nDCG:\n",
    "    cutoff:\n",
    "      type: int\n",
    "      values: 10\n",
    "  MAP:\n",
    "    cutoff:\n",
    "      type: int\n",
    "      values: 10\n",
    "```\n",
    "\n",
    "So, in the following commands, we define the outgoing folder, and we execute our program. We are working with a simple, directed and weighted graph. We shall avoid self-loops, so:"
   ]
  },
  {
   "cell_type": "code",
   "execution_count": 16,
   "id": "9b26986b",
   "metadata": {},
   "outputs": [],
   "source": [
    "output_dir = \"./rec-res/\"\n",
    "multigraph = \"false\"\n",
    "directed = \"false\"\n",
    "weighted = \"false\"\n",
    "self_loops = \"false\"\n",
    "read_types = \"false\"\n",
    "rec_yaml = \"rec.yml\"\n",
    "cutoff = 10"
   ]
  },
  {
   "cell_type": "code",
   "execution_count": 17,
   "id": "33af4e3a",
   "metadata": {},
   "outputs": [
    {
     "name": "stdout",
     "output_type": "stream",
     "text": [
      "recommendation\n",
      "-------- Started unweighted variants --------\n",
      "Data read (12 ms.)\n",
      "Algorithms selected (153 ms.)\n",
      "Num. target users: 102\n"
     ]
    },
    {
     "name": "stderr",
     "output_type": "stream",
     "text": [
      "Algorithm 1/4: Popularity finished (63 ms.)\n",
      "Algorithm 2/4: Random finished (68 ms.)\n",
      "Algorithm 3/4: BM25_wei_OUT_IN_OUT_0.1_0.1 finished (69 ms.)\n",
      "dic. 12, 2022 1:28:52 A. M. es.uam.eps.ir.ranksys.mf.als.ALSFactorizer factorize\n",
      "INFO: iteration n =   1 t = 1,07s\n",
      "dic. 12, 2022 1:28:53 A. M. es.uam.eps.ir.ranksys.mf.als.ALSFactorizer factorize\n",
      "INFO: iteration n =   2 t = 0,83s\n",
      "dic. 12, 2022 1:28:54 A. M. es.uam.eps.ir.ranksys.mf.als.ALSFactorizer factorize\n",
      "INFO: iteration n =   3 t = 0,76s\n",
      "dic. 12, 2022 1:28:54 A. M. es.uam.eps.ir.ranksys.mf.als.ALSFactorizer factorize\n",
      "INFO: iteration n =   4 t = 0,75s\n",
      "dic. 12, 2022 1:28:55 A. M. es.uam.eps.ir.ranksys.mf.als.ALSFactorizer factorize\n",
      "INFO: iteration n =   5 t = 0,66s\n",
      "dic. 12, 2022 1:28:56 A. M. es.uam.eps.ir.ranksys.mf.als.ALSFactorizer factorize\n",
      "INFO: iteration n =   6 t = 0,72s\n",
      "dic. 12, 2022 1:28:57 A. M. es.uam.eps.ir.ranksys.mf.als.ALSFactorizer factorize\n",
      "INFO: iteration n =   7 t = 0,73s\n",
      "dic. 12, 2022 1:28:57 A. M. es.uam.eps.ir.ranksys.mf.als.ALSFactorizer factorize\n",
      "INFO: iteration n =   8 t = 0,71s\n",
      "dic. 12, 2022 1:28:58 A. M. es.uam.eps.ir.ranksys.mf.als.ALSFactorizer factorize\n",
      "INFO: iteration n =   9 t = 0,70s\n",
      "dic. 12, 2022 1:28:59 A. M. es.uam.eps.ir.ranksys.mf.als.ALSFactorizer factorize\n",
      "INFO: iteration n =  10 t = 0,71s\n",
      "dic. 12, 2022 1:28:59 A. M. es.uam.eps.ir.ranksys.mf.als.ALSFactorizer factorize\n",
      "INFO: iteration n =  11 t = 0,81s\n",
      "dic. 12, 2022 1:29:00 A. M. es.uam.eps.ir.ranksys.mf.als.ALSFactorizer factorize\n",
      "INFO: iteration n =  12 t = 0,67s\n",
      "dic. 12, 2022 1:29:01 A. M. es.uam.eps.ir.ranksys.mf.als.ALSFactorizer factorize\n",
      "INFO: iteration n =  13 t = 0,65s\n",
      "dic. 12, 2022 1:29:02 A. M. es.uam.eps.ir.ranksys.mf.als.ALSFactorizer factorize\n",
      "INFO: iteration n =  14 t = 0,70s\n",
      "dic. 12, 2022 1:29:02 A. M. es.uam.eps.ir.ranksys.mf.als.ALSFactorizer factorize\n",
      "INFO: iteration n =  15 t = 0,73s\n",
      "dic. 12, 2022 1:29:03 A. M. es.uam.eps.ir.ranksys.mf.als.ALSFactorizer factorize\n",
      "INFO: iteration n =  16 t = 0,70s\n",
      "dic. 12, 2022 1:29:04 A. M. es.uam.eps.ir.ranksys.mf.als.ALSFactorizer factorize\n",
      "INFO: iteration n =  17 t = 0,68s\n",
      "dic. 12, 2022 1:29:04 A. M. es.uam.eps.ir.ranksys.mf.als.ALSFactorizer factorize\n",
      "INFO: iteration n =  18 t = 0,65s\n",
      "dic. 12, 2022 1:29:05 A. M. es.uam.eps.ir.ranksys.mf.als.ALSFactorizer factorize\n",
      "INFO: iteration n =  19 t = 0,76s\n",
      "dic. 12, 2022 1:29:06 A. M. es.uam.eps.ir.ranksys.mf.als.ALSFactorizer factorize\n",
      "INFO: iteration n =  20 t = 0,81s\n",
      "Algorithm 4/4: iMF_unw_300_150.0_40.0 finished (14877 ms.)\n"
     ]
    }
   ],
   "source": [
    "!java -jar $jar_file recommendation $train_graph $test_graph $multigraph $directed $weighted $self_loops $read_types $rec_yaml $output_dir $cutoff"
   ]
  },
  {
   "cell_type": "markdown",
   "id": "980e4541",
   "metadata": {},
   "source": [
    "Then, we read the output of the files. First, we observe the output of a recommendation algorithm. As we can observe, the output is just a csv file containing (target user, candidate user, score) triplets."
   ]
  },
  {
   "cell_type": "code",
   "execution_count": 18,
   "id": "9f7b48fe",
   "metadata": {},
   "outputs": [
    {
     "data": {
      "text/html": [
       "<div>\n",
       "<style scoped>\n",
       "    .dataframe tbody tr th:only-of-type {\n",
       "        vertical-align: middle;\n",
       "    }\n",
       "\n",
       "    .dataframe tbody tr th {\n",
       "        vertical-align: top;\n",
       "    }\n",
       "\n",
       "    .dataframe thead th {\n",
       "        text-align: right;\n",
       "    }\n",
       "</style>\n",
       "<table border=\"1\" class=\"dataframe\">\n",
       "  <thead>\n",
       "    <tr style=\"text-align: right;\">\n",
       "      <th></th>\n",
       "      <th>Target user</th>\n",
       "      <th>Candidate user</th>\n",
       "      <th>Score</th>\n",
       "    </tr>\n",
       "  </thead>\n",
       "  <tbody>\n",
       "    <tr>\n",
       "      <th>0</th>\n",
       "      <td>66</td>\n",
       "      <td>13</td>\n",
       "      <td>4.729913</td>\n",
       "    </tr>\n",
       "    <tr>\n",
       "      <th>1</th>\n",
       "      <td>66</td>\n",
       "      <td>10</td>\n",
       "      <td>4.696932</td>\n",
       "    </tr>\n",
       "    <tr>\n",
       "      <th>2</th>\n",
       "      <td>66</td>\n",
       "      <td>35</td>\n",
       "      <td>4.680614</td>\n",
       "    </tr>\n",
       "    <tr>\n",
       "      <th>3</th>\n",
       "      <td>66</td>\n",
       "      <td>55</td>\n",
       "      <td>4.669798</td>\n",
       "    </tr>\n",
       "    <tr>\n",
       "      <th>4</th>\n",
       "      <td>66</td>\n",
       "      <td>42</td>\n",
       "      <td>4.611668</td>\n",
       "    </tr>\n",
       "    <tr>\n",
       "      <th>...</th>\n",
       "      <td>...</td>\n",
       "      <td>...</td>\n",
       "      <td>...</td>\n",
       "    </tr>\n",
       "    <tr>\n",
       "      <th>995</th>\n",
       "      <td>2</td>\n",
       "      <td>55</td>\n",
       "      <td>4.111208</td>\n",
       "    </tr>\n",
       "    <tr>\n",
       "      <th>996</th>\n",
       "      <td>2</td>\n",
       "      <td>50</td>\n",
       "      <td>3.085202</td>\n",
       "    </tr>\n",
       "    <tr>\n",
       "      <th>997</th>\n",
       "      <td>2</td>\n",
       "      <td>70</td>\n",
       "      <td>3.081604</td>\n",
       "    </tr>\n",
       "    <tr>\n",
       "      <th>998</th>\n",
       "      <td>2</td>\n",
       "      <td>43</td>\n",
       "      <td>3.074433</td>\n",
       "    </tr>\n",
       "    <tr>\n",
       "      <th>999</th>\n",
       "      <td>2</td>\n",
       "      <td>31</td>\n",
       "      <td>2.716089</td>\n",
       "    </tr>\n",
       "  </tbody>\n",
       "</table>\n",
       "<p>1000 rows × 3 columns</p>\n",
       "</div>"
      ],
      "text/plain": [
       "     Target user  Candidate user     Score\n",
       "0             66              13  4.729913\n",
       "1             66              10  4.696932\n",
       "2             66              35  4.680614\n",
       "3             66              55  4.669798\n",
       "4             66              42  4.611668\n",
       "..           ...             ...       ...\n",
       "995            2              55  4.111208\n",
       "996            2              50  3.085202\n",
       "997            2              70  3.081604\n",
       "998            2              43  3.074433\n",
       "999            2              31  2.716089\n",
       "\n",
       "[1000 rows x 3 columns]"
      ]
     },
     "execution_count": 18,
     "metadata": {},
     "output_type": "execute_result"
    }
   ],
   "source": [
    "rec_file = os.path.join(output_dir, \"recs/BM25_wei_OUT_IN_OUT_0.1_0.1.txt\")\n",
    "rec = pd.read_csv(rec_file, sep=\"\\t\", names=[\"Target user\", \"Candidate user\", \"Score\"])\n",
    "rec"
   ]
  },
  {
   "cell_type": "markdown",
   "id": "2d5e72a4",
   "metadata": {},
   "source": [
    "And, finally, we read the metrics: metric file shows the name of the algorithm, a fraction (basically, this field can be ignored as it only provides information on how low/high the algorithm appears on the list), and the different metrics. Note that, in this case, metric values are very low, due to the network used being a random network."
   ]
  },
  {
   "cell_type": "code",
   "execution_count": 19,
   "id": "ea0890c5",
   "metadata": {},
   "outputs": [
    {
     "data": {
      "text/html": [
       "<div>\n",
       "<style scoped>\n",
       "    .dataframe tbody tr th:only-of-type {\n",
       "        vertical-align: middle;\n",
       "    }\n",
       "\n",
       "    .dataframe tbody tr th {\n",
       "        vertical-align: top;\n",
       "    }\n",
       "\n",
       "    .dataframe thead th {\n",
       "        text-align: right;\n",
       "    }\n",
       "</style>\n",
       "<table border=\"1\" class=\"dataframe\">\n",
       "  <thead>\n",
       "    <tr style=\"text-align: right;\">\n",
       "      <th></th>\n",
       "      <th>Fraction</th>\n",
       "      <th>nDCG@10</th>\n",
       "      <th>MAP@10</th>\n",
       "    </tr>\n",
       "    <tr>\n",
       "      <th>Variant</th>\n",
       "      <th></th>\n",
       "      <th></th>\n",
       "      <th></th>\n",
       "    </tr>\n",
       "  </thead>\n",
       "  <tbody>\n",
       "    <tr>\n",
       "      <th>BM25_wei_OUT_IN_OUT_0.1_0.1</th>\n",
       "      <td>0.25</td>\n",
       "      <td>0.042926</td>\n",
       "      <td>0.021687</td>\n",
       "    </tr>\n",
       "    <tr>\n",
       "      <th>Popularity</th>\n",
       "      <td>0.50</td>\n",
       "      <td>0.061554</td>\n",
       "      <td>0.034314</td>\n",
       "    </tr>\n",
       "    <tr>\n",
       "      <th>Random</th>\n",
       "      <td>0.75</td>\n",
       "      <td>0.035550</td>\n",
       "      <td>0.012655</td>\n",
       "    </tr>\n",
       "    <tr>\n",
       "      <th>iMF_unw_300_150.0_40.0</th>\n",
       "      <td>1.00</td>\n",
       "      <td>0.063604</td>\n",
       "      <td>0.035703</td>\n",
       "    </tr>\n",
       "  </tbody>\n",
       "</table>\n",
       "</div>"
      ],
      "text/plain": [
       "                             Fraction   nDCG@10    MAP@10\n",
       "Variant                                                  \n",
       "BM25_wei_OUT_IN_OUT_0.1_0.1      0.25  0.042926  0.021687\n",
       "Popularity                       0.50  0.061554  0.034314\n",
       "Random                           0.75  0.035550  0.012655\n",
       "iMF_unw_300_150.0_40.0           1.00  0.063604  0.035703"
      ]
     },
     "execution_count": 19,
     "metadata": {},
     "output_type": "execute_result"
    }
   ],
   "source": [
    "metrics = pd.read_csv(os.path.join(output_dir, \"evaluation.txt\"), sep=\"\\t\", index_col=0)\n",
    "metrics"
   ]
  },
  {
   "cell_type": "markdown",
   "id": "3ca45263",
   "metadata": {},
   "source": [
    "## Step 2: Analyzing the structural properties of a network\n",
    "\n",
    "We might be interested on studying the structural properties of networks. In order to get such properties, we use the `sna` program provided by the library. If we execute it without further information, we might observe the required and optional arguments of the program and a description."
   ]
  },
  {
   "cell_type": "code",
   "execution_count": 20,
   "id": "8441ed67",
   "metadata": {},
   "outputs": [
    {
     "name": "stdout",
     "output_type": "stream",
     "text": [
      "sna\n"
     ]
    },
    {
     "name": "stderr",
     "output_type": "stream",
     "text": [
      "ERROR: Invalid arguments.\n",
      "Usage:\n",
      "\tGraph file: a file containing the graph to analyze.\n",
      "\tMultigraph: true if the network allows multiple edges, false otherwise.\n",
      "\tDirected: true if the network is directed, false otherwise.\n",
      "\tWeighted: true if the network is weighted, false otherwise.\n",
      "\tSelfloops: true if the network allows self-loops, false otherwise.\n",
      "\tMetrics: a YAML file containing the metrics to compute.\n",
      "\tOutput: the directory in which to store the metrics.\n",
      "\n",
      "\tOptional parameters:\n",
      "\t\t-communities commFile1,...,commFileN: a comma separated list of files containing communities.\n",
      "\t\t--distances: include if we want to precompute distance metrics (recommended if any is used)\n",
      "\t\t--nodetype: by default, it assumes that nodes are long, but this might change. Formats:\n",
      "\t\t\tlong: the default value. Nodes are Long values.\n",
      "\t\t\tint: nodes are formatted as Integer values.\n",
      "\t\t\tstring: nodes are formatted as Strings (without separators)\n"
     ]
    }
   ],
   "source": [
    "!java -jar $jar_file sna"
   ]
  },
  {
   "cell_type": "markdown",
   "id": "c1acf995",
   "metadata": {},
   "source": [
    "As we can observe, we need to provide information about the network to analyze, as well as a YAML file containing the metrics to compute and a dictionary to store the metrics. If we need to use communities, we can also provide files (we'll explore that later). Also, if we compute distance-based metrics, we can pre-compute them.\n",
    "\n",
    "In the case of just analyzing the properties of a network, using the `--distances` flag is recommended. Otherwise, it might be necessary to compute distances for each of the metrics.\n",
    "\n",
    "As example metrics, in this example, we are using the provided YAML file in the repository, which explores three metrics:\n",
    "- Clustering coefficient\n",
    "- Eccentricity\n",
    "- Embeddedness\n",
    "\n",
    "We print below the YAML file for executing these three metrics.\n",
    "\n",
    "```yaml\n",
    "metrics:\n",
    "  Clustering coefficient:\n",
    "    type: graph\n",
    "    params:\n",
    "      uSel:\n",
    "        type: orientation\n",
    "        values: IN\n",
    "      vSel:\n",
    "        type: orientation\n",
    "        values: OUT\n",
    "  Eccentricity:\n",
    "    type: vertex\n",
    "  Embeddedness:\n",
    "    type: edge\n",
    "    params:\n",
    "      uSel:\n",
    "        type: orientation\n",
    "        values: OUT\n",
    "      vSel:\n",
    "        type: orientation\n",
    "        values: IN \n",
    "```\n",
    "\n",
    "So, in the following commands, we define the outgoing folder, and we execute our program. We are working with a simple, directed and weighted graph. We shall avoid self-loops, so:"
   ]
  },
  {
   "cell_type": "code",
   "execution_count": 21,
   "id": "705f0371",
   "metadata": {},
   "outputs": [
    {
     "name": "stderr",
     "output_type": "stream",
     "text": [
      "  % Total    % Received % Xferd  Average Speed   Time    Time     Time  Current\n",
      "                                 Dload  Upload   Total   Spent    Left  Speed\n",
      "\n",
      "  0     0    0     0    0     0      0      0 --:--:-- --:--:-- --:--:--     0\n",
      "  0     0    0     0    0     0      0      0 --:--:-- --:--:-- --:--:--     0\n",
      "100   369  100   369    0     0   2157      0 --:--:-- --:--:-- --:--:--  2157\n",
      "Ya existe el subdirectorio o el archivo metrics-res.\n"
     ]
    }
   ],
   "source": [
    "!curl -L https://raw.githubusercontent.com/ir-uam/RELISON/master/Example%20configuration%20files/metrics-example.yml --output metrics.yml\n",
    "!mkdir metrics-res"
   ]
  },
  {
   "cell_type": "code",
   "execution_count": 22,
   "id": "3a35c6eb",
   "metadata": {},
   "outputs": [],
   "source": [
    "output_dir = \"./metrics-res/\""
   ]
  },
  {
   "cell_type": "code",
   "execution_count": 25,
   "id": "b9498d74",
   "metadata": {},
   "outputs": [],
   "source": [
    "multigraph = \"false\"\n",
    "directed = \"false\"\n",
    "weighted = \"false\"\n",
    "self_loops = \"false\"\n",
    "read_types = \"false\"\n",
    "rec_yaml = \"rec.yml\"\n",
    "jar_file = './RELISON/RELISON.jar'\n",
    "train_graph = './RELISON/data/train.txt'\n",
    "test_graph = './RELISON/data/test.txt'\n",
    "graph = './RELISON/data/graph.txt'"
   ]
  },
  {
   "cell_type": "code",
   "execution_count": 27,
   "id": "426ef49a",
   "metadata": {},
   "outputs": [
    {
     "name": "stdout",
     "output_type": "stream",
     "text": [
      "sna\n",
      "Network read (60 ms.)\n",
      "Communities read (20 ms."
     ]
    },
    {
     "name": "stderr",
     "output_type": "stream",
     "text": [
      "The execution arguments were not right\n",
      "java.lang.reflect.InvocationTargetException\n",
      "\tat java.base/jdk.internal.reflect.NativeMethodAccessorImpl.invoke0(Native Method)\n",
      "\tat java.base/jdk.internal.reflect.NativeMethodAccessorImpl.invoke(NativeMethodAccessorImpl.java:62)\n",
      "\tat java.base/jdk.internal.reflect.DelegatingMethodAccessorImpl.invoke(DelegatingMethodAccessorImpl.java:43)\n",
      "\tat java.base/java.lang.reflect.Method.invoke(Method.java:564)\n",
      "\tat es.uam.eps.ir.relison.Main.main(Main.java:68)"
     ]
    },
    {
     "name": "stdout",
     "output_type": "stream",
     "text": [
      "\n"
     ]
    },
    {
     "name": "stderr",
     "output_type": "stream",
     "text": [
      "\n",
      "Caused by: java.io.FileNotFoundException: $metrics_yaml (El sistema no puede encontrar el archivo especificado)\n",
      "\tat java.base/java.io.FileInputStream.open0(Native Method)\n",
      "\tat java.base/java.io.FileInputStream.open(FileInputStream.java:212)\n",
      "\tat java.base/java.io.FileInputStream.<init>(FileInputStream.java:154)\n",
      "\tat java.base/java.io.FileInputStream.<init>(FileInputStream.java:109)\n",
      "\tat es.uam.eps.ir.relison.examples.AuxiliarMethods.readYAML(AuxiliarMethods.java:44)\n",
      "\tat es.uam.eps.ir.relison.examples.sna.GraphAnalyzer.main(GraphAnalyzer.java:170)\n",
      "\t... 5 more\n"
     ]
    }
   ],
   "source": [
    "!java -jar ./RELISON/RELISON.jar sna ./RELISON/data/graph.txt $multigraph $directed $weighted $self_loops $metrics_yaml $output_dir --distances"
   ]
  },
  {
   "cell_type": "markdown",
   "id": "08c8f410",
   "metadata": {},
   "source": [
    "Once the program has been executed, we can obtain the results from the output folder. In the example, we have studied vertex, edge and graph metrics, so we shall go throughout them."
   ]
  },
  {
   "cell_type": "markdown",
   "id": "caa22f9a",
   "metadata": {},
   "source": [
    "### Graph metrics\n",
    "Graph metrics are global to the whole graph. That means that a single numeric value is enough to represent it. The values of graph metrics are stored in the `global.txt` file in the output directory. Each line shows the name and value of the corresponding metric. In the case of individual vertex and edge metrics, this file contains the average value:"
   ]
  },
  {
   "cell_type": "code",
   "execution_count": null,
   "id": "8df53cda",
   "metadata": {},
   "outputs": [],
   "source": [
    "pd.read_csv(os.path.join(output_dir, \"global.txt\"), delimiter='\\t', index_col=0)"
   ]
  },
  {
   "cell_type": "markdown",
   "id": "1fa70c5f",
   "metadata": {},
   "source": [
    "### Vertex metrics\n",
    "Vertex metrics are properties related to a single node in the graph. As its distribution might be interesting, we store the individual values in the `vertex` directory of the output folder. For each metric, we store a different file. In this case, we only have the `Eccentricity` metric. Below, we show the nodes with a greater eccentricity (maximum finite distance from the node to the rest of them in the network)"
   ]
  },
  {
   "cell_type": "code",
   "execution_count": null,
   "id": "b0945ffa",
   "metadata": {},
   "outputs": [],
   "source": [
    "eccentricity = pd.read_csv(os.path.join(os.path.join(output_dir, \"vertex\"), \"Eccentricity.txt\"), delimiter='\\t', index_col=0)\n",
    "eccentricity.sort_values(by=\"metric\", ascending=False).head(10)"
   ]
  },
  {
   "cell_type": "markdown",
   "id": "8897ca42",
   "metadata": {},
   "source": [
    "Considering that we have the individual data, it is simple for us to plot the distribution of the metric over the different nodes, in different formats.\n",
    "\n",
    "#### Example 1: Density-like distribution\n",
    "In this plot, the x axis shows the eccentricity values, and the y axis the number of nodes containing that value."
   ]
  },
  {
   "cell_type": "code",
   "execution_count": null,
   "id": "7d0e4e08",
   "metadata": {},
   "outputs": [],
   "source": [
    "import matplotlib\n",
    "import matplotlib.pyplot as plt\n",
    "\n",
    "\n",
    "series = eccentricity['metric'].value_counts().sort_index()\n",
    "\n",
    "x_values = [x for x in series.keys()]\n",
    "x_values\n",
    "\n",
    "y_values = [y for y in series]\n",
    "y_values\n",
    "\n",
    "matplotlib.rc('xtick', labelsize=12) \n",
    "matplotlib.rc('ytick', labelsize=12)\n",
    "plt.suptitle('Eccentricity distribution', fontsize=20)\n",
    "plt.plot(x_values, y_values, 'b', marker=\"o\", markersize=5, linewidth=0.5)\n",
    "plt.axis([0, 13, 0, 100])\n",
    "plt.xlabel('Eccentricity', fontsize=14)\n",
    "plt.ylabel('# Nodes', fontsize=14)\n",
    "plt.show()"
   ]
  },
  {
   "cell_type": "markdown",
   "id": "a03d21ab",
   "metadata": {},
   "source": [
    "#### Example 2: Cumulative like distribution\n",
    "Here, we plot in the x axis the number of the node, and, in the y axis, the eccentricity value. For this, we sort the values from greater to smaller."
   ]
  },
  {
   "cell_type": "code",
   "execution_count": null,
   "id": "43f3267b",
   "metadata": {},
   "outputs": [],
   "source": [
    "import matplotlib\n",
    "import matplotlib.pyplot as plt\n",
    "\n",
    "x_values = []\n",
    "y_values = []\n",
    "\n",
    "i = 0\n",
    "for index, row in eccentricity.sort_values(by=\"metric\", ascending=True).iterrows():\n",
    "    x_values.append(i)\n",
    "    i += 1\n",
    "    y_values.append(row[\"metric\"])\n",
    "\n",
    "matplotlib.rc('xtick', labelsize=12) \n",
    "matplotlib.rc('ytick', labelsize=12)\n",
    "plt.suptitle('Eccentricity distribution', fontsize=20)\n",
    "plt.plot(x_values, y_values, 'b', marker=\"o\", markersize=5, linewidth=0.5)\n",
    "plt.axis([0, 100, 0, 10])\n",
    "plt.xlabel('# Node', fontsize=14)\n",
    "plt.ylabel('Eccentricity', fontsize=14)\n",
    "plt.show()"
   ]
  },
  {
   "cell_type": "markdown",
   "id": "49620512",
   "metadata": {},
   "source": [
    "## Step 3: Community detection\n",
    "\n",
    "In addition to analyzing the structure of the network using raw numbers, we can use community detection algorithms to explore the clustering of nodes in the network. In this case, we can use the `communities` program available in the framework:"
   ]
  },
  {
   "cell_type": "code",
   "execution_count": null,
   "id": "44b94057",
   "metadata": {},
   "outputs": [],
   "source": [
    "!java -jar $jar_file communities"
   ]
  },
  {
   "cell_type": "markdown",
   "id": "bde4bcec",
   "metadata": {},
   "source": [
    "The program receives the following arguments:\n",
    "- **graph:** the file where the network is stored\n",
    "- **multigraph:** `true` if the network is a multigraph, `false` otherwise\n",
    "- **directed:** `true` if the network is directed, `false` otherwise\n",
    "- **weighted:** `true` if the network is weighted, `false` otherwise\n",
    "- **self-loops:** `true`if we want to read self-loops, `false` otherwise\n",
    "- **algorithm:** the YAML file with the configuration.\n",
    "- **output:** the directory in which to store the communities.\n"
   ]
  },
  {
   "cell_type": "code",
   "execution_count": null,
   "id": "5e0733b6",
   "metadata": {},
   "outputs": [],
   "source": [
    "!curl -L https://raw.githubusercontent.com/ir-uam/RELISON/master/Example%20configuration%20files/comm-detection-example.yml --output communities.yml\n",
    "!mkdir comms-res"
   ]
  },
  {
   "cell_type": "markdown",
   "id": "be3e12c3",
   "metadata": {},
   "source": [
    "In this example, we are going to use the defaultWe print below the YAML file for executing these three metrics.\n",
    "\n",
    "```yaml\n",
    "algorithms:\n",
    "  Louvain:\n",
    "    threshold:\n",
    "      type: double\n",
    "      value: 0.5\n",
    "```\n"
   ]
  },
  {
   "cell_type": "code",
   "execution_count": null,
   "id": "ed96fb90",
   "metadata": {},
   "outputs": [],
   "source": [
    "comms_yaml = \"communities.yml\"\n",
    "output_dir = \"comms-res/\"\n",
    "!java -Xss10m -jar $jar_file communities $graph $multigraph $directed $weighted $self_loops $comms_yaml $output_dir"
   ]
  },
  {
   "cell_type": "markdown",
   "id": "c1f672da",
   "metadata": {},
   "source": [
    "We now read the communities detected and we plot their distribution"
   ]
  },
  {
   "cell_type": "code",
   "execution_count": null,
   "id": "57faa2e7",
   "metadata": {},
   "outputs": [],
   "source": [
    "comms_df = pd.read_csv(os.path.join(output_dir, \"Louvain_0.5.txt\"), sep=\"\\t\", names=[\"Node\", \"Communities\"])\n",
    "comms_df"
   ]
  },
  {
   "cell_type": "code",
   "execution_count": null,
   "id": "896605f3",
   "metadata": {},
   "outputs": [],
   "source": [
    "y = comms_df.groupby(by=\"Communities\").count()\n",
    "plt.pie(y[\"Node\"].values, labels=y.index.values)\n",
    "plt.show()"
   ]
  }
 ],
 "metadata": {
  "kernelspec": {
   "display_name": "Python 3",
   "language": "python",
   "name": "python3"
  },
  "language_info": {
   "codemirror_mode": {
    "name": "ipython",
    "version": 3
   },
   "file_extension": ".py",
   "mimetype": "text/x-python",
   "name": "python",
   "nbconvert_exporter": "python",
   "pygments_lexer": "ipython3",
   "version": "3.8.8"
  }
 },
 "nbformat": 4,
 "nbformat_minor": 5
}
